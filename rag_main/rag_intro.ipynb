{
 "cells": [
  {
   "cell_type": "markdown",
   "metadata": {},
   "source": [
    "# RAG MAIN"
   ]
  },
  {
   "cell_type": "markdown",
   "metadata": {},
   "source": [
    "## load dotenv"
   ]
  },
  {
   "cell_type": "code",
   "execution_count": 1,
   "metadata": {},
   "outputs": [
    {
     "name": "stdout",
     "output_type": "stream",
     "text": [
      "OPENAI_API_KEY=sk-...TBW\n"
     ]
    }
   ],
   "source": [
    "from dotenv import load_dotenv, find_dotenv, dotenv_values\n",
    "\n",
    "def hide_api_key(s):\n",
    "    if len(s) < 6:\n",
    "        return \"Input string must be at least 6 characters long\"\n",
    "    return s[:3] + '...' + s[-3:]\n",
    "\n",
    "dotenv_path = find_dotenv(filename=\".env\", raise_error_if_not_found=True)\n",
    "load_dotenv(dotenv_path, override=True)\n",
    "\n",
    "env_vars = dotenv_values(dotenv_path)\n",
    "for k, v in env_vars.items():\n",
    "    if \"OPENAI_API_KEY\" in k:\n",
    "        print(f\"{k}={hide_api_key(v)}\")\n",
    "    else:\n",
    "        print(f\"{k}={v}\")"
   ]
  }
 ],
 "metadata": {
  "kernelspec": {
   "display_name": "llm-3.12.2",
   "language": "python",
   "name": "python3"
  },
  "language_info": {
   "codemirror_mode": {
    "name": "ipython",
    "version": 3
   },
   "file_extension": ".py",
   "mimetype": "text/x-python",
   "name": "python",
   "nbconvert_exporter": "python",
   "pygments_lexer": "ipython3",
   "version": "3.12.2"
  }
 },
 "nbformat": 4,
 "nbformat_minor": 2
}
