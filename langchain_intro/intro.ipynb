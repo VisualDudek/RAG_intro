{
 "cells": [
  {
   "cell_type": "code",
   "execution_count": 19,
   "metadata": {},
   "outputs": [
    {
     "name": "stdout",
     "output_type": "stream",
     "text": [
      "OPENAI_API_KEY=sk-...TBW\n"
     ]
    }
   ],
   "source": [
    "from dotenv import load_dotenv, find_dotenv, dotenv_values\n",
    "from langchain_openai import ChatOpenAI\n",
    "import os\n",
    "\n",
    "def hide_api_key(s):\n",
    "    if len(s) < 6:\n",
    "        return \"Input string must be at least 6 characters long\"\n",
    "    return s[:3] + '...' + s[-3:]\n",
    "\n",
    "dotenv_path = find_dotenv(filename=\".env\", raise_error_if_not_found=True)\n",
    "load_dotenv(dotenv_path, override=True)\n",
    "\n",
    "env_vars = dotenv_values(dotenv_path)\n",
    "for k, v in env_vars.items():\n",
    "    if \"OPENAI_API_KEY\" in k:\n",
    "        print(f\"{k}={hide_api_key(v)}\")\n",
    "    else:\n",
    "        print(f\"{k}={v}\")\n",
    "\n",
    "\n",
    "chat_model = ChatOpenAI(model=\"gpt-3.5-turbo\", temperature=0)\n",
    "\n",
    "# DEBUG: Print all environment variables\n",
    "# for k, v in os.environ.items():\n",
    "#     print(f\"{k}={v}\")"
   ]
  },
  {
   "cell_type": "code",
   "execution_count": 18,
   "metadata": {},
   "outputs": [
    {
     "data": {
      "text/plain": [
       "AIMessage(content=\"The common cold is a viral infection, so antibiotics are not effective in treating it. The best way to treat a cold is to get plenty of rest, stay hydrated, and manage symptoms with over-the-counter medications such as decongestants, pain relievers, and cough suppressants. It's also important to practice good hygiene, such as washing your hands frequently and covering your mouth and nose when you cough or sneeze, to prevent spreading the virus to others. If symptoms persist or worsen, it's a good idea to consult with a healthcare provider.\", response_metadata={'token_usage': {'completion_tokens': 114, 'prompt_tokens': 36, 'total_tokens': 150}, 'model_name': 'gpt-3.5-turbo', 'system_fingerprint': None, 'finish_reason': 'stop', 'logprobs': None}, id='run-e8ecdc7b-8ab0-4f06-b5db-b982f6da681e-0')"
      ]
     },
     "execution_count": 18,
     "metadata": {},
     "output_type": "execute_result"
    }
   ],
   "source": [
    "from langchain.schema.messages import HumanMessage, SystemMessage\n",
    "\n",
    "messages = [\n",
    "    SystemMessage(\n",
    "        content=\"\"\"You're an assistant knowledgeable about healthcare.\n",
    "        Only answer healthcare-related questions.\"\"\"\n",
    "    ),\n",
    "    HumanMessage(content=\"What is the best way to treat a cold?\"),\n",
    "]\n",
    "\n",
    "chat_model.invoke(messages)"
   ]
  }
 ],
 "metadata": {
  "kernelspec": {
   "display_name": "llm-3.12.2",
   "language": "python",
   "name": "python3"
  },
  "language_info": {
   "codemirror_mode": {
    "name": "ipython",
    "version": 3
   },
   "file_extension": ".py",
   "mimetype": "text/x-python",
   "name": "python",
   "nbconvert_exporter": "python",
   "pygments_lexer": "ipython3",
   "version": "3.12.2"
  }
 },
 "nbformat": 4,
 "nbformat_minor": 2
}
