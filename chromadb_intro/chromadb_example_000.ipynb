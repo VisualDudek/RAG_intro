{
 "cells": [
  {
   "cell_type": "markdown",
   "metadata": {},
   "source": [
    "## Prepare and Inspect Your Dataset"
   ]
  },
  {
   "cell_type": "code",
   "execution_count": 3,
   "metadata": {},
   "outputs": [],
   "source": [
    "import pathlib\n",
    "import polars as pl\n",
    "\n",
    "def prepare_car_reviews_data(data_path: pathlib.Path, vehicle_years: list[int] = [2017]):\n",
    "    \"\"\"Prepare the car reviews dataset for ChromaDB\"\"\"\n",
    "\n",
    "    # Define the schema to ensure proper data types are enforced\n",
    "    dtypes = {\n",
    "        \"\": pl.Int64,\n",
    "        \"Review_Date\": pl.Utf8,\n",
    "        \"Author_Name\": pl.Utf8,\n",
    "        \"Vehicle_Title\": pl.Utf8,\n",
    "        \"Review_Title\": pl.Utf8,\n",
    "        \"Review\": pl.Utf8,\n",
    "        \"Rating\": pl.Float64,\n",
    "    }\n",
    "\n",
    "    # Scan the car reviews dataset(s)\n",
    "    car_reviews = pl.scan_csv(data_path, dtypes=dtypes)\n",
    "\n",
    "    # Extract the vehicle title and year as new columns\n",
    "    # Filter on selected years\n",
    "    car_review_db_data = (\n",
    "        car_reviews.with_columns(\n",
    "            [\n",
    "                (\n",
    "                    pl.col(\"Vehicle_Title\").str.split(\n",
    "                        by=\" \").list.get(0).cast(pl.Int64)\n",
    "                ).alias(\"Vehicle_Year\"),\n",
    "                (pl.col(\"Vehicle_Title\").str.split(by=\" \").list.get(1)).alias(\n",
    "                    \"Vehicle_Model\"\n",
    "                ),\n",
    "            ]\n",
    "        )\n",
    "        .filter(pl.col(\"Vehicle_Year\").is_in(vehicle_years))\n",
    "        .select([\"Review_Title\", \"Review\", \"Rating\", \"Vehicle_Year\", \"Vehicle_Model\"])\n",
    "        .sort([\"Vehicle_Model\", \"Rating\"])\n",
    "        .collect()\n",
    "    )\n",
    "\n",
    "    # Create ids, documents, and metadatas data in the format chromadb expects\n",
    "    ids = [f\"review{i}\" for i in range(car_review_db_data.shape[0])]\n",
    "    documents = car_review_db_data[\"Review\"].to_list()\n",
    "    metadatas = car_review_db_data.drop(\"Review\").to_dicts()\n",
    "\n",
    "    return {\"ids\": ids, \"documents\": documents, \"metadatas\": metadatas}"
   ]
  },
  {
   "cell_type": "code",
   "execution_count": 4,
   "metadata": {},
   "outputs": [],
   "source": [
    "DATA_PATH = \"data/archive/*\"\n",
    "\n",
    "chroma_car_reviews_dict = prepare_car_reviews_data(DATA_PATH)"
   ]
  },
  {
   "cell_type": "code",
   "execution_count": 7,
   "metadata": {},
   "outputs": [
    {
     "data": {
      "text/plain": [
       "dict_keys(['ids', 'documents', 'metadatas'])"
      ]
     },
     "execution_count": 7,
     "metadata": {},
     "output_type": "execute_result"
    }
   ],
   "source": [
    "chroma_car_reviews_dict.keys()"
   ]
  },
  {
   "cell_type": "code",
   "execution_count": 8,
   "metadata": {},
   "outputs": [
    {
     "data": {
      "text/plain": [
       "5870"
      ]
     },
     "execution_count": 8,
     "metadata": {},
     "output_type": "execute_result"
    }
   ],
   "source": [
    "len(chroma_car_reviews_dict[\"ids\"])"
   ]
  },
  {
   "cell_type": "markdown",
   "metadata": {},
   "source": [
    "## Create a Collection and Add Reviews"
   ]
  },
  {
   "cell_type": "code",
   "execution_count": 9,
   "metadata": {},
   "outputs": [],
   "source": [
    "import pathlib\n",
    "import chromadb\n",
    "from chromadb.utils import embedding_functions\n",
    "from more_itertools import batched\n",
    "\n",
    "def build_chroma_collection(\n",
    "    chroma_path: pathlib.Path,\n",
    "    collection_name: str,\n",
    "    embedding_func_name: str,\n",
    "    ids: list[str],\n",
    "    documents: list[str],\n",
    "    metadatas: list[dict],\n",
    "    distance_func_name: str = \"cosine\",\n",
    "):\n",
    "    \"\"\"Create a ChromaDB collection\"\"\"\n",
    "\n",
    "    chroma_client = chromadb.PersistentClient(chroma_path)\n",
    "\n",
    "    embedding_func = embedding_functions.SentenceTransformerEmbeddingFunction(\n",
    "        model_name=embedding_func_name\n",
    "    )\n",
    "\n",
    "    collection = chroma_client.create_collection(\n",
    "        name=collection_name,\n",
    "        embedding_function=embedding_func,\n",
    "        metadata={\"hnsw:space\": distance_func_name},\n",
    "    )\n",
    "\n",
    "    document_indices = list(range(len(documents)))\n",
    "\n",
    "    for batch in batched(document_indices, 166):\n",
    "        start_idx = batch[0]\n",
    "        end_idx = batch[-1]\n",
    "\n",
    "        collection.add(\n",
    "            ids=ids[start_idx:end_idx],\n",
    "            documents=documents[start_idx:end_idx],\n",
    "            metadatas=metadatas[start_idx:end_idx],\n",
    "        )"
   ]
  },
  {
   "cell_type": "code",
   "execution_count": 10,
   "metadata": {},
   "outputs": [],
   "source": [
    "import chromadb\n",
    "from chromadb.utils import embedding_functions\n",
    "\n",
    "DATA_PATH = \"data/archive/*\"\n",
    "CHROMA_PATH = \"chroma_data\"\n",
    "EMBEDDING_FUNC_NAME = \"multi-qa-MiniLM-L6-cos-v1\"\n",
    "COLLECTION_NAME = \"car_reviews\""
   ]
  },
  {
   "cell_type": "code",
   "execution_count": 11,
   "metadata": {},
   "outputs": [],
   "source": [
    "chroma_car_reviews_dict = prepare_car_reviews_data(DATA_PATH)"
   ]
  },
  {
   "cell_type": "code",
   "execution_count": 12,
   "metadata": {},
   "outputs": [
    {
     "data": {
      "application/vnd.jupyter.widget-view+json": {
       "model_id": "b78d7c03719c48a1aa537787036b1c58",
       "version_major": 2,
       "version_minor": 0
      },
      "text/plain": [
       "modules.json:   0%|          | 0.00/349 [00:00<?, ?B/s]"
      ]
     },
     "metadata": {},
     "output_type": "display_data"
    },
    {
     "data": {
      "application/vnd.jupyter.widget-view+json": {
       "model_id": "5ecf3f8b3bf744518a485fe68a4e10c2",
       "version_major": 2,
       "version_minor": 0
      },
      "text/plain": [
       "config_sentence_transformers.json:   0%|          | 0.00/116 [00:00<?, ?B/s]"
      ]
     },
     "metadata": {},
     "output_type": "display_data"
    },
    {
     "data": {
      "application/vnd.jupyter.widget-view+json": {
       "model_id": "156a4292c945439c81748e87ead4f49b",
       "version_major": 2,
       "version_minor": 0
      },
      "text/plain": [
       "README.md:   0%|          | 0.00/11.6k [00:00<?, ?B/s]"
      ]
     },
     "metadata": {},
     "output_type": "display_data"
    },
    {
     "data": {
      "application/vnd.jupyter.widget-view+json": {
       "model_id": "50751fe635704b6cab3810b7a0a5d74f",
       "version_major": 2,
       "version_minor": 0
      },
      "text/plain": [
       "sentence_bert_config.json:   0%|          | 0.00/53.0 [00:00<?, ?B/s]"
      ]
     },
     "metadata": {},
     "output_type": "display_data"
    },
    {
     "name": "stderr",
     "output_type": "stream",
     "text": [
      "/home/m/.pyenv/versions/3.12.2/envs/llm-3.12.2/lib/python3.12/site-packages/huggingface_hub/file_download.py:1132: FutureWarning: `resume_download` is deprecated and will be removed in version 1.0.0. Downloads always resume when possible. If you want to force a new download, use `force_download=True`.\n",
      "  warnings.warn(\n"
     ]
    },
    {
     "data": {
      "application/vnd.jupyter.widget-view+json": {
       "model_id": "e849fea25b194e25aa068c253d4219a2",
       "version_major": 2,
       "version_minor": 0
      },
      "text/plain": [
       "config.json:   0%|          | 0.00/612 [00:00<?, ?B/s]"
      ]
     },
     "metadata": {},
     "output_type": "display_data"
    },
    {
     "data": {
      "application/vnd.jupyter.widget-view+json": {
       "model_id": "822f48b1a7bf42b3a2664bde4f3230c4",
       "version_major": 2,
       "version_minor": 0
      },
      "text/plain": [
       "model.safetensors:   0%|          | 0.00/90.9M [00:00<?, ?B/s]"
      ]
     },
     "metadata": {},
     "output_type": "display_data"
    },
    {
     "data": {
      "application/vnd.jupyter.widget-view+json": {
       "model_id": "4dc860fe2fed47f9bfbb71f2ec899e51",
       "version_major": 2,
       "version_minor": 0
      },
      "text/plain": [
       "tokenizer_config.json:   0%|          | 0.00/383 [00:00<?, ?B/s]"
      ]
     },
     "metadata": {},
     "output_type": "display_data"
    },
    {
     "data": {
      "application/vnd.jupyter.widget-view+json": {
       "model_id": "01f4dbebf1f84facb6fdefe63a3c3a92",
       "version_major": 2,
       "version_minor": 0
      },
      "text/plain": [
       "vocab.txt:   0%|          | 0.00/232k [00:00<?, ?B/s]"
      ]
     },
     "metadata": {},
     "output_type": "display_data"
    },
    {
     "data": {
      "application/vnd.jupyter.widget-view+json": {
       "model_id": "383ae101053649f0a2ed1c225801f1eb",
       "version_major": 2,
       "version_minor": 0
      },
      "text/plain": [
       "tokenizer.json:   0%|          | 0.00/466k [00:00<?, ?B/s]"
      ]
     },
     "metadata": {},
     "output_type": "display_data"
    },
    {
     "data": {
      "application/vnd.jupyter.widget-view+json": {
       "model_id": "163e91befda4428597047ab51a38ccf6",
       "version_major": 2,
       "version_minor": 0
      },
      "text/plain": [
       "special_tokens_map.json:   0%|          | 0.00/112 [00:00<?, ?B/s]"
      ]
     },
     "metadata": {},
     "output_type": "display_data"
    },
    {
     "data": {
      "application/vnd.jupyter.widget-view+json": {
       "model_id": "681538c6235d40b98189dbb6fdae57a7",
       "version_major": 2,
       "version_minor": 0
      },
      "text/plain": [
       "1_Pooling/config.json:   0%|          | 0.00/190 [00:00<?, ?B/s]"
      ]
     },
     "metadata": {},
     "output_type": "display_data"
    }
   ],
   "source": [
    "build_chroma_collection(\n",
    "    CHROMA_PATH,\n",
    "    COLLECTION_NAME,\n",
    "    EMBEDDING_FUNC_NAME,\n",
    "    chroma_car_reviews_dict[\"ids\"],\n",
    "    chroma_car_reviews_dict[\"documents\"],\n",
    "    chroma_car_reviews_dict[\"metadatas\"],\n",
    ")"
   ]
  },
  {
   "cell_type": "code",
   "execution_count": 13,
   "metadata": {},
   "outputs": [],
   "source": [
    "client = chromadb.PersistentClient(CHROMA_PATH)\n",
    "embedding_func = embedding_functions.SentenceTransformerEmbeddingFunction(\n",
    "    model_name=EMBEDDING_FUNC_NAME\n",
    ")"
   ]
  },
  {
   "cell_type": "code",
   "execution_count": 14,
   "metadata": {},
   "outputs": [],
   "source": [
    "collection = client.get_collection(COLLECTION_NAME, embedding_function=embedding_func)"
   ]
  },
  {
   "cell_type": "code",
   "execution_count": 15,
   "metadata": {},
   "outputs": [],
   "source": [
    "great_reviews = collection.query(\n",
    "    query_texts=[\"Find me some positive reviews that discuss the car's performance\"],\n",
    "    n_results=5,\n",
    "    include=[\"documents\", \"distances\", \"metadatas\"],\n",
    ")"
   ]
  },
  {
   "cell_type": "code",
   "execution_count": 16,
   "metadata": {},
   "outputs": [
    {
     "data": {
      "text/plain": [
       "[[' Great all around car with great balance of performance and comfort. Terrific technology too.',\n",
       "  \" Have had the car for less than a month but, I am impressed with it's acceleration & responsivness. Car holds the road very well. Electronics are nice but not spectacular,(everything works fine but I am not crazy about the volume control for the radio), other than that, I am very happy with it's performance & looks.\",\n",
       "  ' Excellent car',\n",
       "  \" Im not into writing long reviews. my run down and i got one of the first new Imprezas. Super quiet ride, all wheel drive, very safe and great sounding stereo. If you don't buy this car in that price range your an idiot.\",\n",
       "  \" I don't normally review anything, but I feel compelled to write about this car.  With a daily round trip commute of 108 miles, I was tired of the constant trips to gas stations and the expense.  After just a month with this car, I am blown away.  It is the most economical, practical, comfortable commuter vehicle that you can buy.  Never being a big fan of Hyundai, I was skeptical on a number of fronts - reliability/quality, comfort, and ride quality.  This car is ghostly silent with a perfect driving position, comfortable seating and good ergonomics.  Having owned a number of luxury cars and currently an owner of a BMW X5 Diesel (also a great economical SUV) I am really impressed with ride and build quality.  I am currently running 33-34 miles on pure electric and averaging close to 80 MPGs for my commute. I plug it in at night and at work - 110V outlet takes about 8-9 hours.   Too early to give a report on long term reliability, but with 100K powertrain warranty and lifetime battery warranty I am covered for alt least 4 years of commuting. Good looking vehicle - conservatively sharp, without the typical Hybrid space ship looks.   One word - impressed.\"]]"
      ]
     },
     "execution_count": 16,
     "metadata": {},
     "output_type": "execute_result"
    }
   ],
   "source": [
    "great_reviews[\"documents\"]"
   ]
  },
  {
   "cell_type": "markdown",
   "metadata": {},
   "source": [
    "## Connect to an LLM Service"
   ]
  },
  {
   "cell_type": "code",
   "execution_count": 18,
   "metadata": {},
   "outputs": [
    {
     "name": "stdout",
     "output_type": "stream",
     "text": [
      "OPENAI_API_KEY=sk-...TBW\n"
     ]
    }
   ],
   "source": [
    "from dotenv import load_dotenv, find_dotenv, dotenv_values\n",
    "from openai import OpenAI\n",
    "\n",
    "\n",
    "def hide_api_key(s):\n",
    "    if len(s) < 6:\n",
    "        return \"Input string must be at least 6 characters long\"\n",
    "    return s[:3] + '...' + s[-3:]\n",
    "\n",
    "dotenv_path = find_dotenv(filename=\".env\", raise_error_if_not_found=True)\n",
    "load_dotenv(dotenv_path, override=True)\n",
    "\n",
    "env_vars = dotenv_values(dotenv_path)\n",
    "for k, v in env_vars.items():\n",
    "    if \"OPENAI_API_KEY\" in k:\n",
    "        print(f\"{k}={hide_api_key(v)}\")\n",
    "    else:\n",
    "        print(f\"{k}={v}\")"
   ]
  },
  {
   "cell_type": "code",
   "execution_count": 21,
   "metadata": {},
   "outputs": [
    {
     "data": {
      "text/plain": [
       "'Great customer satisfaction in a car dealership hinges on several key factors:\\n\\n1. **Exceptional Customer Service**: This includes being friendly, approachable, and genuinely interested in helping customers. Staff should be well-trained to handle inquiries, provide detailed information, and assist with any issues that arise.\\n\\n2. **Transparency**: Be honest and upfront about pricing, financing options, and any additional costs. Customers appreciate transparency and it builds trust.\\n\\n3. **Personalization**: Tailor the experience to meet the individual needs and preferences of each customer. This can involve remembering past interactions, understanding their preferences, and making personalized recommendations.\\n\\n4. **Efficient Processes**: Streamline the buying process to make it as smooth and quick as possible. This includes everything from test drives to financing and paperwork.\\n\\n5. **Quality Products**: Ensure that the vehicles you sell are of high quality and well-maintained. Offering a good selection of both new and pre-owned vehicles can cater to a wider range of customers.\\n\\n6. **After-Sales Support**: Provide excellent after-sales service, including maintenance, repairs, and customer support. Follow up with customers to ensure they are satisfied with their purchase and address any concerns promptly.\\n\\n7. **Customer Feedback**: Actively seek and act on customer feedback. This can help identify areas for improvement and show customers that their opinions are valued.\\n\\n8. **Building Relationships**: Focus on building long-term relationships rather than just making a sale. This can lead to repeat business and referrals.\\n\\n9. **Convenience**: Offer conveniences such as online scheduling for test drives and service appointments, home delivery options, and a user-friendly website.\\n\\n10. **Positive Environment**: Create a welcoming and comfortable environment in the dealership. This includes a clean and organized showroom, comfortable waiting areas, and amenities like refreshments and Wi-Fi.\\n\\nBy focusing on these areas, a car dealership can significantly enhance customer satisfaction and foster loyalty.'"
      ]
     },
     "execution_count": 21,
     "metadata": {},
     "output_type": "execute_result"
    }
   ],
   "source": [
    "context = \"You are a customer success employee at a large car dealership.\"\n",
    "question = \"What's the key to great customer satisfaction?\"\n",
    "\n",
    "client = OpenAI(api_key=env_vars[\"OPENAI_API_KEY\"])\n",
    "\n",
    "completion = client.chat.completions.create( \n",
    "    model = \"gpt-4o\",\n",
    "    messages = [\n",
    "        {\"role\": \"system\", \"content\": context},\n",
    "        {\"role\": \"user\", \"content\": question},\n",
    "    ],\n",
    "    temperature = 0,\n",
    ")\n",
    "\n",
    "completion.choices[0].message.content"
   ]
  },
  {
   "cell_type": "markdown",
   "metadata": {},
   "source": [
    "### Provide Context to the LLM"
   ]
  },
  {
   "cell_type": "code",
   "execution_count": 33,
   "metadata": {},
   "outputs": [],
   "source": [
    "context = \"\"\"\n",
    "You are a customer success employee at a large\n",
    "car dealership. Use the following car reviews\n",
    "to answer questions: {}\n",
    "\"\"\"\n",
    "\n",
    "question = \"\"\"\n",
    "What's the key to great customer satisfaction\n",
    "based on detailed positive reviews?\n",
    "\"\"\""
   ]
  },
  {
   "cell_type": "code",
   "execution_count": 34,
   "metadata": {},
   "outputs": [],
   "source": [
    "good_reviews = collection.query(\n",
    "    query_texts=[question],\n",
    "    n_results=10,\n",
    "    include=[\"documents\"],\n",
    "    where={\"Rating\": {\"$gt\": 4.5}},\n",
    ")\n",
    "\n",
    "reviews_str = \",\".join(good_reviews[\"documents\"][0])"
   ]
  },
  {
   "cell_type": "code",
   "execution_count": 35,
   "metadata": {},
   "outputs": [
    {
     "data": {
      "text/plain": [
       "'Based on the detailed positive reviews provided, the key to great customer satisfaction in the car dealership industry includes several critical factors:\\n\\n1. **Value for Money**: Customers appreciate getting more features and equipment for their money compared to competitors. This includes aspects like warranties and additional equipment.\\n\\n2. **Reliability and Quality**: High marks for reliability and build quality are crucial. Customers value vehicles that are dependable and have fewer recalls or issues.\\n\\n3. **Comfort and Ergonomics**: Comfortable seating, good ergonomics, and a quiet ride are highly valued. Customers want a vehicle that is pleasant to drive, especially for long commutes.\\n\\n4. **Fuel Efficiency**: High fuel efficiency and economical operation are significant factors, especially for customers with long daily commutes. Vehicles that offer good mileage and hybrid options are particularly appreciated.\\n\\n5. **Technology and Features**: Advanced technology and features, such as a good stereo system, all-wheel drive, and other modern conveniences, contribute to customer satisfaction.\\n\\n6. **Aesthetics and Design**: Attractive design and good looks, both interior and exterior, are important. Customers prefer vehicles that are visually appealing and have a high-quality finish.\\n\\n7. **Warranty and Long-term Coverage**: Comprehensive warranties, including powertrain and battery warranties, provide peace of mind and are a significant factor in customer satisfaction.\\n\\n8. **Performance**: While some customers may find performance lacking, overall performance that meets or exceeds expectations is a key factor. This includes aspects like ride quality and handling.\\n\\n9. **Customer Experience**: Positive experiences with the dealership, including the buying process and after-sales support, contribute to overall satisfaction.\\n\\n10. **Personal Recommendations**: Customers who are impressed with their purchase are more likely to recommend the vehicle to others, indicating a high level of satisfaction.\\n\\nBy focusing on these factors, car dealerships can enhance customer satisfaction and foster positive reviews.'"
      ]
     },
     "execution_count": 35,
     "metadata": {},
     "output_type": "execute_result"
    }
   ],
   "source": [
    "good_review_summaries = client.chat.completions.create( \n",
    "    model = \"gpt-4o\",\n",
    "    messages = [\n",
    "        {\"role\": \"system\", \"content\": context.format(reviews_str)},\n",
    "        {\"role\": \"user\", \"content\": question},\n",
    "    ],\n",
    "    temperature = 0,\n",
    ")\n",
    "\n",
    "good_review_summaries.choices[0].message.content"
   ]
  },
  {
   "cell_type": "markdown",
   "metadata": {},
   "source": [
    "#### see the power of using ChromaDB, see question"
   ]
  },
  {
   "cell_type": "code",
   "execution_count": 36,
   "metadata": {},
   "outputs": [],
   "source": [
    "context = \"\"\"\n",
    "You are a customer success employee at a large\n",
    "car dealership. Use the following car reviews\n",
    "to answer questions: {}\n",
    "\"\"\"\n",
    "\n",
    "question = \"\"\"\n",
    "Which of these poor reviews has the\n",
    "worst implications about our dealership?\n",
    "Explain why.\n",
    "\"\"\"\n",
    "\n",
    "poor_reviews = collection.query(\n",
    "    query_texts=[question],\n",
    "    n_results=5,\n",
    "    include=[\"documents\"],\n",
    "    where={\"Rating\": {\"$lte\": 3}},\n",
    ")\n",
    "\n",
    "poor_reviews_str = \",\".join(poor_reviews[\"documents\"][0])"
   ]
  },
  {
   "cell_type": "code",
   "execution_count": 38,
   "metadata": {},
   "outputs": [
    {
     "data": {
      "text/plain": [
       "'The review with the worst implications about your dealership is the first one:\\n\\n\"I have been to the dealership four times and I still have unresolved electrical issues, from the Bluetooth, backup camera, truck wont open, black screen every other trip turning off, clock wont work, seatbelts NOT WORKING !!!!!!!! which really pisses me off as I have a child in the car. So many issues in a short period of time it has become the worst vehicle I have owned unfortunately and to the point where I will drop the car off back at the dealership and purchase something else. I don\\'t have the time to deal with a vehicle of 53k value as if it were pieced together from spare parts from a junkyard. I always read reviews before buying vehicles and I have stuck with Nissan & Infiniti for the past ten years for their workhorse engines as two of my Nissans went to 289k & 377k miles but after this SUV I am jumping ship as soon as possible.\"\\n\\n### Explanation:\\n1. **Frequency of Visits**: The customer has visited the dealership four times and still has unresolved issues. This indicates a failure in the service department to effectively diagnose and fix the problems, which reflects poorly on the dealership\\'s competence and efficiency.\\n\\n2. **Safety Concerns**: The mention of seatbelts not working, especially with a child in the car, raises serious safety concerns. This is a critical issue that can severely damage the dealership\\'s reputation, as it suggests negligence in addressing potentially life-threatening problems.\\n\\n3. **Customer Frustration**: The customer\\'s frustration is palpable, and they are considering abandoning the brand entirely. This indicates a high level of dissatisfaction that could lead to negative word-of-mouth and loss of future business.\\n\\n4. **Value Perception**: The customer feels that a $53,000 vehicle should not have these issues, suggesting that they believe the dealership is selling subpar products. This can deter potential customers who read the review.\\n\\n5. **Brand Loyalty**: The customer has been loyal to Nissan & Infiniti for ten years but is now considering switching brands due to this experience. Losing a loyal customer can be particularly damaging, as it suggests a significant failure in maintaining customer satisfaction.\\n\\nOverall, this review highlights multiple areas where the dealership is falling short, from service quality to safety, and has the potential to significantly harm the dealership\\'s reputation.'"
      ]
     },
     "execution_count": 38,
     "metadata": {},
     "output_type": "execute_result"
    }
   ],
   "source": [
    "\n",
    "poor_review_analysis = client.chat.completions.create( \n",
    "    model = \"gpt-4o\",\n",
    "    messages = [\n",
    "        {\"role\": \"system\", \"content\": context.format(poor_reviews_str)},\n",
    "        {\"role\": \"user\", \"content\": question},\n",
    "    ],\n",
    "    temperature = 0,\n",
    ")\n",
    "\n",
    "poor_review_analysis.choices[0].message.content"
   ]
  },
  {
   "cell_type": "markdown",
   "metadata": {},
   "source": [
    "wow, check what will happen when you leave `context.format(reviews_str)`, GPT will notice that all reviews are positive ..."
   ]
  }
 ],
 "metadata": {
  "kernelspec": {
   "display_name": "llm-3.12.2",
   "language": "python",
   "name": "python3"
  },
  "language_info": {
   "codemirror_mode": {
    "name": "ipython",
    "version": 3
   },
   "file_extension": ".py",
   "mimetype": "text/x-python",
   "name": "python",
   "nbconvert_exporter": "python",
   "pygments_lexer": "ipython3",
   "version": "3.12.2"
  }
 },
 "nbformat": 4,
 "nbformat_minor": 2
}
